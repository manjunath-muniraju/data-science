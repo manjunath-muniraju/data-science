{
 "cells": [
  {
   "cell_type": "markdown",
   "metadata": {},
   "source": [
    "# Problem - 1"
   ]
  },
  {
   "cell_type": "markdown",
   "metadata": {},
   "source": [
    "**You need to fill the missing codes as prompted in this notebook.**"
   ]
  },
  {
   "cell_type": "markdown",
   "metadata": {},
   "source": [
    ">Natural Language Processing(NLP) is a data science process of extracting information from textual data. Chatbots, sentiment analysis and Amazon Alexa are some of the applications of NLP. But to do any kind of data prediction we need to have data in structured format. Real workd data is messy and may present in any format. Though as a data scientist you will get data in CSV or JSON format most of the times, there are exceptions. Below is an example of PDF file from which we need to extract the title and subheadings for our use. "
   ]
  },
  {
   "cell_type": "code",
   "execution_count": 1,
   "metadata": {},
   "outputs": [
    {
     "name": "stdout",
     "output_type": "stream",
     "text": [
      " Samples are provided for reference only.  Always consult current legislation in your jurisdiction to create \n",
      "policies and procedures and contracts for your organization. \n",
      "SAMPLE AGREEMENT \n",
      " This Agreement is entered into as of the XX day of October, 200X, between \n",
      "___________(ﬁthe Committeeﬂ) and ____________ (ﬁthe Contractorﬂ). \n",
      " \n",
      "1. Independent Contractor.\n",
      "  Subject to the terms and conditions of this Agreement, the \n",
      "Committee hereby engages the Contractor as an independent contractor to perform \n",
      "the services set forth herein, and the Contractor hereby accepts such engagement. \n",
      " \n",
      "2. Duties, Term, and Compensation.\n",
      "  The Contractor™s duties, term of engagement, \n",
      "compensation and provisions for payment thereof shall be as set forth in the budget \n",
      "\n",
      "which is attached as Schedule A, which may be amended in writing from time to \n",
      "time, or supplemented with subsequent estimates for services to be rendered by the \n",
      "Contractor and agreed to by the Committee, and which collectively are hereby \n",
      "\n",
      "incorporated by reference. \n",
      " \n",
      "3. Expenses.\n",
      "  During the term of this Agreement, the Contractor shall bill and the \n",
      "Committee shall reimburse her for all reasonable and approved out-of-pocket \n",
      "expenses as set forth in Schedule A which are incurred in connection with the \n",
      "performance of the duties hereunder.  \n",
      " \n",
      "4. Written Reports.\n",
      "  The Committee may request that project plans, progress reports \n",
      "and a final results report be provided by Consultant..  A final results report shall be \n",
      "due at the conclusion of the project and shall be submitted to the Committee in a \n",
      "confidential written report at such time. The results report shall be in such form and \n",
      "\n",
      "setting forth such information and data as is reasonably requested by the Committee. \n",
      " \n",
      "5. Confidentiality.\n",
      "  Upon the expiration or earlier termination of this Agreement, or \n",
      "whenever requested by the Committee, the C\n",
      "ontractor shall immediately deliver to \n",
      "the Committee all such files, records, \n",
      "documents, specifications, information, and \n",
      "other items in her possession or under her control.  The Contractor further agrees \n",
      "\n",
      "that she will not disclose her retention as an independent contractor or the terms of \n",
      "\n",
      "this Agreement to any person without the prior written consent of the Committee and \n",
      "\n",
      "shall at all times preserve the confidential nature of her relationship to the Committee \n",
      "and of the services hereunder.  \n",
      "6. Conflicts of Interest;\n",
      " The Contractor represents that she is free to enter into this \n",
      "Agreement and that this engagement does not violate the terms of any agreement \n",
      "\n",
      "between the Contractor and any third party.  During the term of this agreement, the \n",
      "Contractor shall devote as much of her productive time, energy and abilities to the \n",
      "performance of her duties hereunder as is necessary to perform the required duties \n",
      "\n",
      "in a timely and productive manner.  The Contractor is expressly free to perform services for other parties while performing services for the Committee.   \n",
      " \n",
      "7. Termination.\n",
      "  The Committee may terminate this Agreement at any time by 10 \n",
      "working days™ written notice to the Contractor.  In addition, if the Contractor is \n",
      "convicted of any crime or offense, fails or refuses to comply with the written policies \n",
      "\n",
      "or reasonable directive of the Committee, is guilty of serious misconduct in \n",
      "\n",
      "connection with performance hereunder, or materially breaches provisions of this \n",
      "\n",
      "Agreement, the Committee at any time may terminate the engagement of the \n",
      "Contractor immediately and without prior written notice to the Contractor. \n",
      " \n"
     ]
    }
   ],
   "source": [
    "# If you remember we know how to load .txt files using python open function\n",
    "# But here we are trying to open a PDF file, we will use a library called PyPDF2\n",
    "# To run this library use conda install PyPDF2(for Anaconda users) or pip install PyPDF2 \n",
    "# We have load the file for you\n",
    "import PyPDF2\n",
    "\n",
    "import warnings # Ignores all the warnings\n",
    "warnings.filterwarnings(action = 'ignore')\n",
    "\n",
    "pdfName = open(\"samplecontract.pdf\", \"rb\")\n",
    "read_pdf = PyPDF2.PdfFileReader(pdfName)\n",
    "page = read_pdf.getPage(0)\n",
    "page_content = page.extractText()\n",
    "print(page_content)"
   ]
  },
  {
   "cell_type": "markdown",
   "metadata": {},
   "source": [
    "As you can see, the result is a string. "
   ]
  },
  {
   "cell_type": "code",
   "execution_count": 2,
   "metadata": {},
   "outputs": [
    {
     "data": {
      "text/plain": [
       "str"
      ]
     },
     "execution_count": 2,
     "metadata": {},
     "output_type": "execute_result"
    }
   ],
   "source": [
    "type(page_content)"
   ]
  },
  {
   "cell_type": "markdown",
   "metadata": {},
   "source": [
    "We have written a code for you to extract the title of the document. "
   ]
  },
  {
   "cell_type": "markdown",
   "metadata": {},
   "source": [
    "### Find the title"
   ]
  },
  {
   "cell_type": "markdown",
   "metadata": {},
   "source": [
    "Try to find the error in below code and get the title."
   ]
  },
  {
   "cell_type": "code",
   "execution_count": 5,
   "metadata": {},
   "outputs": [
    {
     "ename": "NameError",
     "evalue": "name 'get_pdf_title' is not defined",
     "output_type": "error",
     "traceback": [
      "\u001b[1;31m---------------------------------------------------------------------------\u001b[0m",
      "\u001b[1;31mNameError\u001b[0m                                 Traceback (most recent call last)",
      "\u001b[1;32m<ipython-input-5-336cd5dcbcca>\u001b[0m in \u001b[0;36m<module>\u001b[1;34m()\u001b[0m\n\u001b[0;32m      2\u001b[0m     \u001b[1;32mreturn\u001b[0m \u001b[0mread_pdf\u001b[0m\u001b[1;33m.\u001b[0m\u001b[0mgetDocumentInfo\u001b[0m\u001b[1;33m(\u001b[0m\u001b[1;33m)\u001b[0m\u001b[1;33m.\u001b[0m\u001b[0mtitle\u001b[0m\u001b[1;33m\u001b[0m\u001b[0m\n\u001b[0;32m      3\u001b[0m \u001b[1;33m\u001b[0m\u001b[0m\n\u001b[1;32m----> 4\u001b[1;33m \u001b[0mget_pdf_title\u001b[0m\u001b[1;33m(\u001b[0m\u001b[0mread_pdf\u001b[0m\u001b[1;33m)\u001b[0m \u001b[1;31m# We are calling the function\u001b[0m\u001b[1;33m\u001b[0m\u001b[0m\n\u001b[0m\u001b[0;32m      5\u001b[0m \u001b[0mprint\u001b[0m\u001b[1;33m(\u001b[0m\u001b[0mtitle\u001b[0m\u001b[1;33m)\u001b[0m\u001b[1;33m\u001b[0m\u001b[0m\n",
      "\u001b[1;31mNameError\u001b[0m: name 'get_pdf_title' is not defined"
     ]
    }
   ],
   "source": [
    "def getpdftitle(pdf_file_path):\n",
    "    return read_pdf.getDocumentInfo().title\n",
    "\n",
    "get_pdf_title(read_pdf) # Remember that 'read_pdf' is a positional argument\n",
    "print(title) # You can't change this line"
   ]
  },
  {
   "cell_type": "markdown",
   "metadata": {},
   "source": [
    "### Find subtitles"
   ]
  },
  {
   "cell_type": "markdown",
   "metadata": {},
   "source": [
    "Our goal is to get all the subtitles in the document, which we need to be in dictionary format. Unfortunately, Python doesn't have such buit-in funtion so we need to create our own function. Your task is to fill the code as asked, to make the function run."
   ]
  },
  {
   "cell_type": "markdown",
   "metadata": {},
   "source": [
    "This is the expected output from the file. subtitles should contain all the subtitles.\n",
    "\n",
    "{0: ['Independent', 'Contractor.'],\n",
    " 1: ['Duties,', 'Term,', 'and', 'Compensation.'],\n",
    " 2: ['Expenses.'],\n",
    " 3: ['Written', 'Reports.'],\n",
    " 4: ['Confidentiality.'],\n",
    " 5: ['Conflicts', 'of', 'Interest;'],\n",
    " 6: ['Termination.']}"
   ]
  },
  {
   "cell_type": "code",
   "execution_count": null,
   "metadata": {},
   "outputs": [],
   "source": [
    "def find_subtitles(page_content):\n",
    "    # Do This\n",
    "    # We need Regular expression library of Python\n",
    "    # How will you use the re module inside the function\n",
    "    # Your code goes below\n",
    "    \n",
    "    subtitles = # Remember we need the output as a dictionary?\n",
    "    tmp_var = page_content.split()\n",
    "    index_loc = []\n",
    "    for i, j in enumerate(tmp_var):\n",
    "        if re.match(r'^\\d+\\.$', j):\n",
    "            # we need to add all the matching string location in index_loc list\n",
    "            # How will you do that?\n",
    "            \n",
    "    for i, j in enumerate(index_loc):\n",
    "        var = []\n",
    "        for k in tmp_var[j+1:]:\n",
    "            if re.search(r'[\\.\\;]', k):\n",
    "                # Running this loop as it is won't add the last string since it breaks\n",
    "                # As soon as it find '.'\n",
    "                # For example the first key value will be only ['independent']\n",
    "                # Where as we need ['Independent', 'Contractor.']\n",
    "                # What you think can help us correct the output\n",
    "                # Your code goes here\n",
    "\n",
    "                break\n",
    "            else:\n",
    "                var.append(k)\n",
    "        subtitles[i] = var # Maybe you need to modify here too\n",
    "\n",
    "    return subtitles"
   ]
  },
  {
   "cell_type": "code",
   "execution_count": null,
   "metadata": {},
   "outputs": [],
   "source": [
    "find_subtitles(page_content) # Call the function here"
   ]
  }
 ],
 "metadata": {
  "kernelspec": {
   "display_name": "Python 3",
   "language": "python",
   "name": "python3"
  },
  "language_info": {
   "codemirror_mode": {
    "name": "ipython",
    "version": 3
   },
   "file_extension": ".py",
   "mimetype": "text/x-python",
   "name": "python",
   "nbconvert_exporter": "python",
   "pygments_lexer": "ipython3",
   "version": "3.6.6"
  }
 },
 "nbformat": 4,
 "nbformat_minor": 2
}
