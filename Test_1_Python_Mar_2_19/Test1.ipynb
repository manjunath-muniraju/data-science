{
 "cells": [
  {
   "cell_type": "markdown",
   "metadata": {},
   "source": [
    "### This Jupyter notebook contains 7 questions and each question carry 5 marks. Depending upon your code quality you will be given marks. Try to generalize the solutions for better marks.\n",
    "\n",
    "**Good Luck!**"
   ]
  },
  {
   "cell_type": "markdown",
   "metadata": {},
   "source": [
    "Q1. Write a Python program to replace last value of tuples in a list to 100.\n",
    "Sample list: [(10, 20, 40), (40, 50, 60), (70, 80, 90)]\n",
    "Expected Output: [(10, 20, 100), (40, 50, 100), (70, 80, 100)]"
   ]
  },
  {
   "cell_type": "code",
   "execution_count": null,
   "metadata": {},
   "outputs": [],
   "source": [
    "# Your answer goes here for the first question"
   ]
  },
  {
   "cell_type": "markdown",
   "metadata": {},
   "source": [
    "Q2. Write a Python program to combine two dictionary adding values for common keys. \n",
    "d1 = {'a': 100, 'b': 200, 'c':300}\n",
    "d2 = {'a': 300, 'b': 200, 'd':400}\n",
    "Sample output: {'a': 400, 'b': 400, 'd': 400, 'c': 300}"
   ]
  },
  {
   "cell_type": "code",
   "execution_count": null,
   "metadata": {},
   "outputs": [],
   "source": [
    "# Your answer goes here for the second question"
   ]
  },
  {
   "cell_type": "markdown",
   "metadata": {},
   "source": [
    "Q3. Create a text file in your system and Write this content to your file - \n",
    "\n",
    "'There’s a new astronaut on its way to the International Space Station this morning aboard SpaceX’s most recent resupply launch, and it’s only the size of a medicine ball. \\nCIMON (Crew Interactive Mobile Companion) is an artificial intelligence assistant designed by Airbus and IBM to assist the European Space Agency’s astronauts in everyday tasks aboard the ISS. \\n Weighing in at just 11 pounds and roughly the size of a medicine ball, this minute astronaut is equipped with the neural network strength of IBM’s Watson.\\n'\n",
    "\n",
    "Now write Python logic to count the number of capital letters in your file."
   ]
  },
  {
   "cell_type": "code",
   "execution_count": null,
   "metadata": {},
   "outputs": [],
   "source": [
    "# Your answer goes here for the third question"
   ]
  },
  {
   "cell_type": "markdown",
   "metadata": {},
   "source": [
    "q4. Write a program which takes 2 digits, X,Y as input and generates a 2-dimensional array. The element value in the i-th row and j-th column of the array should be i*j.\n",
    "Note: i=0,1.., X-1; j=0,1,..,Y-1.\n",
    "Example:\n",
    "Suppose the following inputs are given to the program:\n",
    "3,5\n",
    "Then, the output of the program should be:\n",
    "[[0, 0, 0, 0, 0], [0, 1, 2, 3, 4], [0, 2, 4, 6, 8]]"
   ]
  },
  {
   "cell_type": "code",
   "execution_count": null,
   "metadata": {},
   "outputs": [],
   "source": [
    "# Your answer goes here for the forth question"
   ]
  },
  {
   "cell_type": "markdown",
   "metadata": {},
   "source": [
    "Q5. Write a program that accepts a sequence of whitespace separated words as input and prints the words after removing all duplicate words and sorting them alphanumerically. Suppose the following input is supplied to the program:\n",
    "\n",
    "hello world and practice makes perfect and hello world again\n",
    "\n",
    "Then, the output should be:\n",
    "\n",
    "again and hello makes perfect practice world.\n",
    "\n",
    "**The soultion need to be a lambda function.**"
   ]
  },
  {
   "cell_type": "code",
   "execution_count": null,
   "metadata": {},
   "outputs": [],
   "source": [
    "# Your answer goes here for the fifth question\n",
    "# Below is a Normal Function syntax\n",
    "# def sum(a, b):\n",
    "#     return (a+b)\n",
    "# lambda function also known as anonymous function can do the same thing\n",
    "# f = lambda a, b : a + b\n",
    "# f(4, 5) should return you 9"
   ]
  },
  {
   "cell_type": "markdown",
   "metadata": {},
   "source": [
    "Q6. Write a Python Program to create following pattern - \n",
    "\n",
    "@<br/>\n",
    "@@<br/>\n",
    "@@@<br/>\n",
    "@@@@<br/>\n",
    "@@@@@<br/>\n",
    "@@@@<br/>\n",
    "@@@<br/>\n",
    "@@<br/>\n",
    "@"
   ]
  },
  {
   "cell_type": "code",
   "execution_count": null,
   "metadata": {},
   "outputs": [],
   "source": [
    "# Your answer for 6th question goes here"
   ]
  },
  {
   "cell_type": "markdown",
   "metadata": {},
   "source": [
    "Q6. Create an ip address from 4 random numbers using random number generator. (Use join to concatenate)"
   ]
  },
  {
   "cell_type": "code",
   "execution_count": null,
   "metadata": {},
   "outputs": [],
   "source": [
    "# The IP address can take any values between 0-255\n",
    "# Use the random module to generate random numbers\n",
    "# You should get something like this - 172.45.190.1\n",
    "\n",
    "# import random\n",
    "# random.randint()"
   ]
  },
  {
   "cell_type": "markdown",
   "metadata": {},
   "source": [
    "Q7. Download pdf2json notebook from your classwork and follow the instruction."
   ]
  },
  {
   "cell_type": "code",
   "execution_count": null,
   "metadata": {},
   "outputs": [],
   "source": []
  },
  {
   "cell_type": "markdown",
   "metadata": {},
   "source": [
    "Q8. Given three list objects create a pattern of output as given below:<br>\n",
    "country = ['Americans','Indians']\n",
    "actions = ['Play','Watch']\n",
    "sports = ['Baseball','Cricket']\n",
    "\n",
    "output: Americans Watch Baseball\n",
    "All combinations to be printed"
   ]
  },
  {
   "cell_type": "code",
   "execution_count": null,
   "metadata": {},
   "outputs": [],
   "source": []
  },
  {
   "cell_type": "markdown",
   "metadata": {},
   "source": [
    "Q9. Create the following pattern\n",
    "\n",
    "ls = 'pqr'\n",
    "\n",
    "['p','q','r','pp','qq','rr','pp','qq','rr','ppp','qqq','rrr']"
   ]
  },
  {
   "cell_type": "code",
   "execution_count": null,
   "metadata": {},
   "outputs": [],
   "source": []
  },
  {
   "cell_type": "markdown",
   "metadata": {},
   "source": [
    "Q10. Retain the words in object1 which are not there in object2 and print theoutput in list format\n",
    "\n",
    "ls1 = 'verification'<br>\n",
    "ls2 = 'action'"
   ]
  },
  {
   "cell_type": "code",
   "execution_count": null,
   "metadata": {},
   "outputs": [],
   "source": []
  }
 ],
 "metadata": {
  "kernelspec": {
   "display_name": "Python 3",
   "language": "python",
   "name": "python3"
  },
  "language_info": {
   "codemirror_mode": {
    "name": "ipython",
    "version": 3
   },
   "file_extension": ".py",
   "mimetype": "text/x-python",
   "name": "python",
   "nbconvert_exporter": "python",
   "pygments_lexer": "ipython3",
   "version": "3.6.6"
  }
 },
 "nbformat": 4,
 "nbformat_minor": 2
}
