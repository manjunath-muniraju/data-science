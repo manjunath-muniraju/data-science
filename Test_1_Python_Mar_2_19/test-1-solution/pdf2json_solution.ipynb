{
 "cells": [
  {
   "cell_type": "code",
   "execution_count": 1,
   "metadata": {
    "scrolled": true
   },
   "outputs": [
    {
     "name": "stdout",
     "output_type": "stream",
     "text": [
      " Samples are provided for reference only.  Always consult current legislation in your jurisdiction to create \n",
      "policies and procedures and contracts for your organization. \n",
      "SAMPLE AGREEMENT \n",
      " This Agreement is entered into as of the XX day of October, 200X, between \n",
      "___________(ﬁthe Committeeﬂ) and ____________ (ﬁthe Contractorﬂ). \n",
      " \n",
      "1. Independent Contractor.\n",
      "  Subject to the terms and conditions of this Agreement, the \n",
      "Committee hereby engages the Contractor as an independent contractor to perform \n",
      "the services set forth herein, and the Contractor hereby accepts such engagement. \n",
      " \n",
      "2. Duties, Term, and Compensation.\n",
      "  The Contractor™s duties, term of engagement, \n",
      "compensation and provisions for payment thereof shall be as set forth in the budget \n",
      "\n",
      "which is attached as Schedule A, which may be amended in writing from time to \n",
      "time, or supplemented with subsequent estimates for services to be rendered by the \n",
      "Contractor and agreed to by the Committee, and which collectively are hereby \n",
      "\n",
      "incorporated by reference. \n",
      " \n",
      "3. Expenses.\n",
      "  During the term of this Agreement, the Contractor shall bill and the \n",
      "Committee shall reimburse her for all reasonable and approved out-of-pocket \n",
      "expenses as set forth in Schedule A which are incurred in connection with the \n",
      "performance of the duties hereunder.  \n",
      " \n",
      "4. Written Reports.\n",
      "  The Committee may request that project plans, progress reports \n",
      "and a final results report be provided by Consultant..  A final results report shall be \n",
      "due at the conclusion of the project and shall be submitted to the Committee in a \n",
      "confidential written report at such time. The results report shall be in such form and \n",
      "\n",
      "setting forth such information and data as is reasonably requested by the Committee. \n",
      " \n",
      "5. Confidentiality.\n",
      "  Upon the expiration or earlier termination of this Agreement, or \n",
      "whenever requested by the Committee, the C\n",
      "ontractor shall immediately deliver to \n",
      "the Committee all such files, records, \n",
      "documents, specifications, information, and \n",
      "other items in her possession or under her control.  The Contractor further agrees \n",
      "\n",
      "that she will not disclose her retention as an independent contractor or the terms of \n",
      "\n",
      "this Agreement to any person without the prior written consent of the Committee and \n",
      "\n",
      "shall at all times preserve the confidential nature of her relationship to the Committee \n",
      "and of the services hereunder.  \n",
      "6. Conflicts of Interest;\n",
      " The Contractor represents that she is free to enter into this \n",
      "Agreement and that this engagement does not violate the terms of any agreement \n",
      "\n",
      "between the Contractor and any third party.  During the term of this agreement, the \n",
      "Contractor shall devote as much of her productive time, energy and abilities to the \n",
      "performance of her duties hereunder as is necessary to perform the required duties \n",
      "\n",
      "in a timely and productive manner.  The Contractor is expressly free to perform services for other parties while performing services for the Committee.   \n",
      " \n",
      "7. Termination.\n",
      "  The Committee may terminate this Agreement at any time by 10 \n",
      "working days™ written notice to the Contractor.  In addition, if the Contractor is \n",
      "convicted of any crime or offense, fails or refuses to comply with the written policies \n",
      "\n",
      "or reasonable directive of the Committee, is guilty of serious misconduct in \n",
      "\n",
      "connection with performance hereunder, or materially breaches provisions of this \n",
      "\n",
      "Agreement, the Committee at any time may terminate the engagement of the \n",
      "Contractor immediately and without prior written notice to the Contractor. \n",
      " \n"
     ]
    }
   ],
   "source": [
    "import PyPDF2\n",
    "\n",
    "import warnings # Ignores all the warnings\n",
    "warnings.filterwarnings(action = 'ignore')\n",
    "\n",
    "pdfName = open(\"samplecontract.pdf\", \"rb\")\n",
    "read_pdf = PyPDF2.PdfFileReader(pdfName)\n",
    "page = read_pdf.getPage(0)\n",
    "page_content = page.extractText()\n",
    "print(page_content)"
   ]
  },
  {
   "cell_type": "code",
   "execution_count": 2,
   "metadata": {},
   "outputs": [
    {
     "name": "stdout",
     "output_type": "stream",
     "text": [
      "Microsoft Word - sample contract.doc\n"
     ]
    }
   ],
   "source": [
    "def get_pdf_title(pdf_file_path):\n",
    "    return read_pdf.getDocumentInfo().title\n",
    "\n",
    "title = get_pdf_title(read_pdf) # Remember that 'read_pdf' is a positional argument\n",
    "print(title) "
   ]
  },
  {
   "cell_type": "markdown",
   "metadata": {},
   "source": [
    "# Find Subtitles"
   ]
  },
  {
   "cell_type": "code",
   "execution_count": 3,
   "metadata": {},
   "outputs": [],
   "source": [
    "def find_subtitles(page_content):\n",
    "    import re\n",
    "    subtitles = {}\n",
    "    tmp_var = page_content.split()\n",
    "    index_loc = []\n",
    "    for i, j in enumerate(tmp_var):\n",
    "        if re.match(r'^\\d+\\.$', j):\n",
    "            index_loc.append(i)\n",
    "    for i, j in enumerate(index_loc):\n",
    "        var = []\n",
    "        temp = ''\n",
    "        for k in tmp_var[j+1:]:\n",
    "            if re.search(r'[\\.\\;]', k):\n",
    "                temp = [k]\n",
    "                break\n",
    "            else:\n",
    "                var.append(k)\n",
    "        subtitles[i] = var + temp\n",
    "\n",
    "    return subtitles"
   ]
  },
  {
   "cell_type": "code",
   "execution_count": 4,
   "metadata": {},
   "outputs": [
    {
     "data": {
      "text/plain": [
       "{0: ['Independent', 'Contractor.'],\n",
       " 1: ['Duties,', 'Term,', 'and', 'Compensation.'],\n",
       " 2: ['Expenses.'],\n",
       " 3: ['Written', 'Reports.'],\n",
       " 4: ['Confidentiality.'],\n",
       " 5: ['Conflicts', 'of', 'Interest;'],\n",
       " 6: ['Termination.']}"
      ]
     },
     "execution_count": 4,
     "metadata": {},
     "output_type": "execute_result"
    }
   ],
   "source": [
    "find_subtitles(page_content)"
   ]
  }
 ],
 "metadata": {
  "kernelspec": {
   "display_name": "Python 3",
   "language": "python",
   "name": "python3"
  },
  "language_info": {
   "codemirror_mode": {
    "name": "ipython",
    "version": 3
   },
   "file_extension": ".py",
   "mimetype": "text/x-python",
   "name": "python",
   "nbconvert_exporter": "python",
   "pygments_lexer": "ipython3",
   "version": "3.6.6"
  }
 },
 "nbformat": 4,
 "nbformat_minor": 2
}
