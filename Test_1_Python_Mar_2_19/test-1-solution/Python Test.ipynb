{
 "cells": [
  {
   "cell_type": "markdown",
   "metadata": {},
   "source": [
    "This Jupyter notebook contains 5 questions and each questions carry 5 marks. Depending upon your code quality you will be given marks. Try to generalize the solutions for better marks.\n",
    "\n",
    "Good Luck!"
   ]
  },
  {
   "cell_type": "markdown",
   "metadata": {},
   "source": [
    "Q1. Write a Python program to replace last value of tuples in a list to 100.\n",
    "Sample list: [(10, 20, 40), (40, 50, 60), (70, 80, 90)]\n",
    "Expected Output: [(10, 20, 100), (40, 50, 100), (70, 80, 100)]"
   ]
  },
  {
   "cell_type": "code",
   "execution_count": 4,
   "metadata": {},
   "outputs": [
    {
     "name": "stdout",
     "output_type": "stream",
     "text": [
      "Enter how many tuples you want to keep in the list and...                           ..\\how many numbers you want to add in each tuple3,3\n",
      "[3, 3]\n",
      "My current tuple [(90, 79, 25), (57, 31, 97), (34, 10, 89)]\n",
      "My new tuple [(90, 79, 100), (57, 31, 100), (34, 10, 100)]\n"
     ]
    }
   ],
   "source": [
    "# Your answer goes here for the first question\n",
    "x = [int(x) for x in input('Enter how many tuples you want to keep in the list and...\\\n",
    "                           ..\\how many numbers you want to add in each tuple').split(',')]\n",
    "print(x)\n",
    "import random\n",
    "my_tuple = [tuple([random.randint(0,100)for k in range(x[1])])for i in range(x[0])]\n",
    "print('My current tuple', my_tuple)\n",
    "\n",
    "def last_value_changer(my_tuple):\n",
    "    length_of_each_tuple = len(my_tuple[0])\n",
    "    z = [list(i) for i in my_tuple]\n",
    "    for i in z:\n",
    "        i[length_of_each_tuple-1] = 100\n",
    "    z = [tuple(i) for i in z]\n",
    "    return z\n",
    "        \n",
    "\n",
    "new_tuple = last_value_changer(my_tuple)\n",
    "print('My new tuple',new_tuple)\n"
   ]
  },
  {
   "cell_type": "markdown",
   "metadata": {},
   "source": [
    "Q2. Write a Python program to combine two dictionary adding values for common keys. \n",
    "d1 = {'a': 100, 'b': 200, 'c':300}\n",
    "d2 = {'a': 300, 'b': 200, 'd':400}\n",
    "Sample output: {'a': 400, 'b': 400, 'd': 400, 'c': 300}"
   ]
  },
  {
   "cell_type": "code",
   "execution_count": 6,
   "metadata": {},
   "outputs": [
    {
     "name": "stdout",
     "output_type": "stream",
     "text": [
      "{'a': 400, 'b': 400, 'c': 300, 'd': 400}\n"
     ]
    }
   ],
   "source": [
    "# Your answer goes here for the second question\n",
    "\n",
    "d1 = {'a': 100, 'b': 200, 'c':300}\n",
    "d2 = {'a': 300, 'b': 200, 'd':400}\n",
    "d3 = {}\n",
    "for x,y in d1.items():\n",
    "    if x in d2.keys():\n",
    "        d3[x]=d1[x]+d2[x]\n",
    "    else:\n",
    "        d3[x]=d1[x]\n",
    "for x,y in d2.items():\n",
    "    if x not in d1.keys():\n",
    "        d3[x]=d2[x]\n",
    "print (d3)\n",
    "\n",
    "# d = {k : d1.get(k, 0) + d2.get(k,0) for k in set(d1.keys()) | set(d2.keys())}\n",
    "# print(d)"
   ]
  },
  {
   "cell_type": "markdown",
   "metadata": {},
   "source": [
    "Q3. Create a text file in your system and Write this content to your file - \n",
    "\n",
    "'There’s a new astronaut on its way to the International Space Station this morning aboard SpaceX’s most recent resupply launch, and it’s only the size of a medicine ball. \\nCIMON (Crew Interactive Mobile Companion) is an artificial intelligence assistant designed by Airbus and IBM to assist the European Space Agency’s astronauts in everyday tasks aboard the ISS. \\n Weighing in at just 11 pounds and roughly the size of a medicine ball, this minute astronaut is equipped with the neural network strength of IBM’s Watson.\\n'\n",
    "\n",
    "Now write Python logic to count the number of capital letters in your file."
   ]
  },
  {
   "cell_type": "code",
   "execution_count": null,
   "metadata": {},
   "outputs": [],
   "source": [
    "# Your answer goes here for the third question\n",
    "with open('new_text.txt', 'w+') as f:\n",
    "    f.write('There’s a new astronaut on its way to the International Space Station this morning aboard SpaceX’s most recent resupply launch, and it’s only the size of a medicine ball. \\nCIMON (Crew Interactive Mobile Companion) is an artificial intelligence assistant designed by Airbus and IBM to assist the European Space Agency’s astronauts in everyday tasks aboard the ISS. \\n Weighing in at just 11 pounds and roughly the size of a medicine ball, this minute astronaut is equipped with the neural network strength of IBM’s Watson.\\n')\n",
    "    count = 0\n",
    "    f.seek(0)\n",
    "    for line in f.read():\n",
    "#         print(line)\n",
    "        if line.isupper():\n",
    "            count +=1\n",
    "    print('The total number of capital letter is - ', count)"
   ]
  },
  {
   "cell_type": "markdown",
   "metadata": {},
   "source": [
    "q4. Write a program which takes 2 digits, X,Y as input and generates a 2-dimensional array. The element value in the i-th row and j-th column of the array should be i*j.\n",
    "Note: i=0,1.., X-1; j=0,1,..,Y-1.\n",
    "Example:\n",
    "Suppose the following inputs are given to the program:\n",
    "3,5\n",
    "Then, the output of the program should be:\n",
    "[[0, 0, 0, 0, 0], [0, 1, 2, 3, 4], [0, 2, 4, 6, 8]]"
   ]
  },
  {
   "cell_type": "code",
   "execution_count": null,
   "metadata": {},
   "outputs": [],
   "source": [
    "# Your answer goes here for the fourth question\n",
    "\n",
    "x = int(input('Enter the number of rows\\n'))\n",
    "y = int(input('Enter the number of columns\\n'))\n",
    "multilist = [[ i * k for k in range(y)]for i in range(x)]\n",
    "print('The output matrix is - \\n',multilist)"
   ]
  },
  {
   "cell_type": "markdown",
   "metadata": {},
   "source": [
    "Q5. Write a program that accepts a sequence of whitespace separated words as input and prints the words after removing all duplicate words and sorting them alphanumerically. Suppose the following input is supplied to the program:\n",
    "\n",
    "hello world and practice makes perfect and hello world again\n",
    "\n",
    "Then, the output should be:\n",
    "\n",
    "again and hello makes perfect practice world"
   ]
  },
  {
   "cell_type": "code",
   "execution_count": 1,
   "metadata": {},
   "outputs": [
    {
     "name": "stdout",
     "output_type": "stream",
     "text": [
      "Enter a string separated by whitespacehello world and practice makes perfect and hello world again\n",
      "['again', 'and', 'hello', 'makes', 'perfect', 'practice', 'world']\n",
      "again and hello makes perfect practice world\n"
     ]
    }
   ],
   "source": [
    "x = input('Enter a string separated by whitespace')\n",
    "y = sorted(set([i for i in x.split()]))\n",
    "print(y)\n",
    "z = ' '.join(y)\n",
    "print(z)"
   ]
  },
  {
   "cell_type": "markdown",
   "metadata": {},
   "source": [
    "Q6. Create an ip address from 4 random numbers using random number generator. (Use join to concatenate)"
   ]
  },
  {
   "cell_type": "code",
   "execution_count": 2,
   "metadata": {},
   "outputs": [
    {
     "name": "stdout",
     "output_type": "stream",
     "text": [
      "['248', '141', '48', '220']\n",
      "248.141.48.220\n"
     ]
    }
   ],
   "source": [
    "import random\n",
    "a = random.randint(0, 255)\n",
    "b = random.randint(0, 255)\n",
    "c = random.randint(0, 255)\n",
    "d = random.randint(0, 255)\n",
    "e = list([str(a), str(b), str(c), str(d)])\n",
    "print(e)\n",
    "f = '.'.join(e)\n",
    "print(f)"
   ]
  }
 ],
 "metadata": {
  "kernelspec": {
   "display_name": "Python 3",
   "language": "python",
   "name": "python3"
  },
  "language_info": {
   "codemirror_mode": {
    "name": "ipython",
    "version": 3
   },
   "file_extension": ".py",
   "mimetype": "text/x-python",
   "name": "python",
   "nbconvert_exporter": "python",
   "pygments_lexer": "ipython3",
   "version": "3.6.6"
  }
 },
 "nbformat": 4,
 "nbformat_minor": 2
}
