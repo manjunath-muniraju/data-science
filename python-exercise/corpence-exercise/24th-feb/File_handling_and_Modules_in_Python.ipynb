{
 "cells": [
  {
   "cell_type": "markdown",
   "metadata": {},
   "source": [
    "<font size = \"5\"> File Handling and I/O"
   ]
  },
  {
   "cell_type": "markdown",
   "metadata": {},
   "source": [
    "When we are working in Python we dont have to import any third party library to open, read and write files. Python has its own native support to do these things. Let's see how it is done."
   ]
  },
  {
   "cell_type": "code",
   "execution_count": 48,
   "metadata": {},
   "outputs": [
    {
     "data": {
      "text/plain": [
       "'C:\\\\Users\\\\pk662\\\\OneDrive\\\\CORPNCE\\\\Python_Basics_CORPNCE'"
      ]
     },
     "execution_count": 48,
     "metadata": {},
     "output_type": "execute_result"
    }
   ],
   "source": [
    "import os\n",
    "os.getcwd()"
   ]
  },
  {
   "cell_type": "code",
   "execution_count": 47,
   "metadata": {},
   "outputs": [
    {
     "data": {
      "text/plain": [
       "'C:\\\\Users\\\\pk662\\\\OneDrive\\\\CORPNCE\\\\Python_Basics_CORPNCE'"
      ]
     },
     "execution_count": 47,
     "metadata": {},
     "output_type": "execute_result"
    }
   ],
   "source": [
    "#Check the current directory\n",
    "%pwd"
   ]
  },
  {
   "cell_type": "markdown",
   "metadata": {},
   "source": [
    "Python provides basic functions and methods necessary to manipulate files by default. You can do most of the file manipulation using a file object"
   ]
  },
  {
   "cell_type": "markdown",
   "metadata": {},
   "source": [
    "The <b><i>OPEN </b></i> Function <br>\n",
    "Before you can read or write a file, you have to open it using Python's built-in <u> open() </u> function. This function creates a file object, which would be utilized to call other support methods associated with it <br><br>\n",
    "The open function takes two arguments, the name of the file and and the mode\n",
    "for which we would like to open the file. \n",
    "\n",
    "By default, when only the filename is passed, the open function opens the file\n",
    "in read mode."
   ]
  },
  {
   "cell_type": "markdown",
   "metadata": {},
   "source": [
    "Syntax <br>\n",
    "file object = open(file_name , access_mode)"
   ]
  },
  {
   "cell_type": "code",
   "execution_count": 51,
   "metadata": {
    "scrolled": false
   },
   "outputs": [
    {
     "name": "stdout",
     "output_type": "stream",
     "text": [
      "<_io.TextIOWrapper name='sample.txt' mode='r' encoding='cp1252'>\n",
      "True\n",
      "<_io.TextIOWrapper name='sample.txt' mode='r' encoding='cp1252'>\n"
     ]
    }
   ],
   "source": [
    "# Importing a file to Python\n",
    "file = open('sample.txt', 'r')\n",
    "# Here we can directly open the file as our file is in same location as our Python code\n",
    "print(file)\n",
    "\n",
    "file.close()\n",
    "\n",
    "print(file.closed)\n",
    "print(file)"
   ]
  },
  {
   "cell_type": "markdown",
   "metadata": {},
   "source": [
    "As you can see in the above example we have passed two arguments, one is file name and the other is the mode. 'r' is the mode here and as you can guess it stands for reading the file. 'r' is also the default mode. The other modes are -\n",
    "\n",
    "r = Reading the file<br>\n",
    "w = Writing the file<br>\n",
    "a = Append the file<br>\n",
    "r+ = Both reading and writing file"
   ]
  },
  {
   "cell_type": "code",
   "execution_count": 52,
   "metadata": {},
   "outputs": [
    {
     "name": "stdout",
     "output_type": "stream",
     "text": [
      "sample.txt\n",
      "r\n"
     ]
    }
   ],
   "source": [
    "print(file.name)# Print the name of the file\n",
    "print(file.mode)# Print the current mode of the file\n",
    "# file.close() # After you use the file, you need to close the file"
   ]
  },
  {
   "cell_type": "markdown",
   "metadata": {},
   "source": [
    "Remember in the above syntax we always need to close the file manually whenever we call the open function for security reasons and clutter free file handling. To avoid these confusion it is always recommended to open a file using context manager or try/finally method."
   ]
  },
  {
   "cell_type": "code",
   "execution_count": 74,
   "metadata": {},
   "outputs": [
    {
     "name": "stdout",
     "output_type": "stream",
     "text": [
      "This is a sample text file. \n",
      "This line is your second line. \n",
      "Now we are in the third line."
     ]
    }
   ],
   "source": [
    "file = open('sample.txt', 'r')\n",
    "# print(file.tell())\n",
    "# file_content = file.read()\n",
    "# print(file.tell())\n",
    "# file.seek(32)\n",
    "# print(file.tell())\n",
    "# file_content = file.readlines()\n",
    "# print(file_content)\n",
    "# print(file_content[1])\n",
    "# file_content = file.readline()\n",
    "# print(file_content, end = '')\n",
    "\n",
    "# file_content = file.readline()\n",
    "# print(file_content, end = '')\n",
    "\n",
    "# How to check the total number of characters inside a file\n",
    "# print(len(file.read()))\n",
    "\n",
    "for line in file:\n",
    "    print(line, end = '')# We can use a iterator to iterate over the new lines\n",
    "\n",
    "file.close()"
   ]
  },
  {
   "cell_type": "markdown",
   "metadata": {},
   "source": [
    "<b>Assignment - Create a file named 'sample.txt' in your system with 6 lines and read the first 100 characters from the file.\n",
    "    \n",
    "Hint - Use read(100)"
   ]
  },
  {
   "cell_type": "code",
   "execution_count": 76,
   "metadata": {},
   "outputs": [
    {
     "name": "stdout",
     "output_type": "stream",
     "text": [
      "This is a sample text file. \n",
      "This line is your sec\n"
     ]
    }
   ],
   "source": [
    "file = open('sample.txt','r')\n",
    "file_50 = file.read(50)\n",
    "print(file_50)\n",
    "file.close()"
   ]
  },
  {
   "cell_type": "code",
   "execution_count": 84,
   "metadata": {},
   "outputs": [
    {
     "name": "stdout",
     "output_type": "stream",
     "text": [
      "0\n",
      "ample text file. \n",
      "This line is your second line. \n",
      "\n"
     ]
    },
    {
     "data": {
      "text/plain": [
       "63"
      ]
     },
     "execution_count": 84,
     "metadata": {},
     "output_type": "execute_result"
    }
   ],
   "source": [
    "file = open('sample.txt','r')\n",
    "print(file.tell())\n",
    "file.seek(11)\n",
    "file_50 = file.read(50)\n",
    "print(file_50)\n",
    "file.tell()\n",
    "# file.close()"
   ]
  },
  {
   "cell_type": "markdown",
   "metadata": {},
   "source": [
    "**Context Manager**\n",
    "    "
   ]
  },
  {
   "cell_type": "markdown",
   "metadata": {},
   "source": [
    "Context managers allow you to allocate and release resources precisely when you want to. <br>\n",
    "The most widely used example of context managers is the 'with' statement. <br>\n",
    "Suppose you have two related operations which you’d like to execute as a pair(in our example it is open and close), <br>\n",
    "with a block of code in between. Context managers allow you to do specifically that. <br>\n",
    "For example, the above code can be written as -"
   ]
  },
  {
   "cell_type": "code",
   "execution_count": 1,
   "metadata": {},
   "outputs": [
    {
     "name": "stdout",
     "output_type": "stream",
     "text": [
      "sample.txt\n",
      "This is a sample text file. \n",
      "T\n",
      "30\n",
      "True\n"
     ]
    }
   ],
   "source": [
    "# See the position of the variable name, it is in the right instead of left\n",
    "with open('sample.txt','r') as f:\n",
    "    print(f.name)\n",
    "    f_content = f.read(30)\n",
    "    print(f_content)\n",
    "    print(f.tell())\n",
    "    \n",
    "# Now we dont have to close the file manually as before, context manager will take care of it for us\n",
    "print(f.closed)\n",
    "\n",
    "# f.read()"
   ]
  },
  {
   "cell_type": "markdown",
   "metadata": {},
   "source": [
    "Reading file in binary mode"
   ]
  },
  {
   "cell_type": "code",
   "execution_count": 2,
   "metadata": {},
   "outputs": [
    {
     "name": "stdout",
     "output_type": "stream",
     "text": [
      "b'This is a sample text file. \\n'\n",
      "b'This line is your second line. \\n'\n",
      "b'Now we are in the third line.'\n"
     ]
    }
   ],
   "source": [
    "with open('sample.txt','rb') as file:\n",
    "    for line in file:\n",
    "        print(line)"
   ]
  },
  {
   "cell_type": "code",
   "execution_count": 3,
   "metadata": {},
   "outputs": [
    {
     "name": "stdout",
     "output_type": "stream",
     "text": [
      "This is a sample text file. \n",
      "This line is your second line. \n",
      "Now we are in the third line.\n"
     ]
    }
   ],
   "source": [
    "# Now lets see some basic operation that we can do with our file\n",
    "with open('sample.txt', 'r') as f:\n",
    "    f_content = f.read()\n",
    "    print(f_content)"
   ]
  },
  {
   "cell_type": "markdown",
   "metadata": {},
   "source": [
    "Read function will load all the text inside the file. Lets say we have a very large file and we don't want to print out all the lines at once. In this case we can use 'readline'."
   ]
  },
  {
   "cell_type": "markdown",
   "metadata": {},
   "source": [
    "If we need to print out the first 30 characters of the text file then we can do that by calling read(30). For ex:"
   ]
  },
  {
   "cell_type": "code",
   "execution_count": 7,
   "metadata": {},
   "outputs": [
    {
     "name": "stdout",
     "output_type": "stream",
     "text": [
      "This is a sample text file. \n",
      "This line i$$"
     ]
    }
   ],
   "source": [
    "with open('sample.txt', 'r') as f:\n",
    "    f_content = f.read(20)\n",
    "    print(f_content, end = '$$')\n",
    "    f_content = f.read(20)\n",
    "    print(f_content, end = '$$')\n",
    "#     f.seek(0) # Reset the index position to 0 \n",
    "#     f_content = f.read(20)\n",
    "#     print(f_content, end = '$$')"
   ]
  },
  {
   "cell_type": "markdown",
   "metadata": {},
   "source": [
    "So, how this process is working behind the scene? Whenever we open a file, our python interpreter create a file object which points the beginning of the text file. If we are calling the function readline(), then the file object will go and search for the line break in the file and point the starting of new line.\n",
    "\n",
    "tell() function can help us find the current location of file object and we can reset the file object location to beginning by  calling seek(0) function."
   ]
  },
  {
   "cell_type": "markdown",
   "metadata": {},
   "source": [
    "<b>  Read () </b><br>\n",
    "The read functions contains different methods, read(),readline() and readlines()\n",
    "\n",
    "read()\t\t#return one big string\n",
    "\n",
    "readline\t#return one line at a time\n",
    "\n",
    "readlines\t#returns a list of lines"
   ]
  },
  {
   "cell_type": "markdown",
   "metadata": {},
   "source": [
    "<b>  Write () </b><br>\n",
    "\n",
    "This method writes a sequence of strings to the file.\n",
    "\n",
    "write ()\t#Used to write a fixed sequence of characters to a file\n",
    "\n",
    "writelines()\t#writelines can write a list of strings."
   ]
  },
  {
   "cell_type": "markdown",
   "metadata": {},
   "source": [
    "<b>  Append() </b><br>\n",
    "\n",
    "The append function is used to append to the file instead of overwriting it.\n",
    "\n",
    "To append to an existing file, simply open the file in append mode (\"a\"):"
   ]
  },
  {
   "cell_type": "markdown",
   "metadata": {},
   "source": [
    "<b>  Close() </b><br>\n",
    "\n",
    "When you’re done with a file, use close() to close it and free up any system\n",
    "resources taken up by the open file"
   ]
  },
  {
   "cell_type": "markdown",
   "metadata": {},
   "source": [
    "<html><img src=\"C:/Users/ranja/OneDrive/Python File Handling acess modes.png\"  alt=\"Smiley face\" height=\"42\" width=\"42\" ></html>"
   ]
  },
  {
   "cell_type": "markdown",
   "metadata": {},
   "source": [
    "Let's see some examples of file writing."
   ]
  },
  {
   "cell_type": "code",
   "execution_count": null,
   "metadata": {},
   "outputs": [],
   "source": [
    "#To write to a file, use:\n",
    "# Remember if the file is not created then in write mode it will create the file for you\n",
    "# And if the file is already created then it will overwrite the current file\n",
    "with open(\"sample3.txt\",\"w\") as fh:\n",
    "    fh.write(\"Hello World, I am learning file handling in Python today\")"
   ]
  },
  {
   "cell_type": "code",
   "execution_count": null,
   "metadata": {},
   "outputs": [],
   "source": [
    "#To write to a file, use:\n",
    "with open(\"sample4.txt\", \"w\") as wf:\n",
    "    lines_of_text = [\"a line of text\\n\", \"another line of text\\n\", \"a third line\"]\n",
    "    wf.writelines(lines_of_text)"
   ]
  },
  {
   "cell_type": "markdown",
   "metadata": {},
   "source": [
    "<b>Assignment - Open an existing file from your computer and copy all the contents to a new file at a time."
   ]
  },
  {
   "cell_type": "code",
   "execution_count": 13,
   "metadata": {},
   "outputs": [
    {
     "name": "stdout",
     "output_type": "stream",
     "text": [
      "This is a sample text file. \n",
      "$This line is your second line. \n",
      "$Now we are in the third line.$"
     ]
    }
   ],
   "source": [
    "with open('sample.txt', 'r') as rf:\n",
    "    with open('copy_sample.txt', 'w') as wf:\n",
    "        for lines in rf:\n",
    "            print(lines, end = '$')\n",
    "            wf.write(lines)"
   ]
  },
  {
   "cell_type": "code",
   "execution_count": null,
   "metadata": {},
   "outputs": [],
   "source": [
    "#To append to file, use:\n",
    "with open(\"sample.txt\", \"a\") as rf:\n",
    "    rf.write(\"Hello World again\")"
   ]
  },
  {
   "cell_type": "code",
   "execution_count": null,
   "metadata": {},
   "outputs": [],
   "source": [
    "#How to copy a image file to a new image file\n",
    "#Keep a cat image inside your folder with name 'cat1.jpg' to make this work\n",
    "with open('cat1.jpg', 'rb') as rf:\n",
    "    with open('cat1_copy.jpg', 'wb') as wf:\n",
    "        for lines in rf:\n",
    "            wf.write(lines)"
   ]
  },
  {
   "cell_type": "code",
   "execution_count": 86,
   "metadata": {},
   "outputs": [
    {
     "data": {
      "text/html": [
       "<div>\n",
       "<style scoped>\n",
       "    .dataframe tbody tr th:only-of-type {\n",
       "        vertical-align: middle;\n",
       "    }\n",
       "\n",
       "    .dataframe tbody tr th {\n",
       "        vertical-align: top;\n",
       "    }\n",
       "\n",
       "    .dataframe thead th {\n",
       "        text-align: right;\n",
       "    }\n",
       "</style>\n",
       "<table border=\"1\" class=\"dataframe\">\n",
       "  <thead>\n",
       "    <tr style=\"text-align: right;\">\n",
       "      <th></th>\n",
       "      <th>Order ID</th>\n",
       "      <th>Order Date</th>\n",
       "      <th>Order Priority</th>\n",
       "      <th>Order Quantity</th>\n",
       "      <th>Sales</th>\n",
       "      <th>Ship Mode</th>\n",
       "      <th>Shipping Cost</th>\n",
       "      <th>Province</th>\n",
       "      <th>Customer Segment</th>\n",
       "      <th>Product Category</th>\n",
       "      <th>Product Sub-Category</th>\n",
       "      <th>Product Container</th>\n",
       "      <th>Ship Date</th>\n",
       "    </tr>\n",
       "  </thead>\n",
       "  <tbody>\n",
       "    <tr>\n",
       "      <th>0</th>\n",
       "      <td>928</td>\n",
       "      <td>2011-03-01</td>\n",
       "      <td>Low</td>\n",
       "      <td>26</td>\n",
       "      <td>390.2000</td>\n",
       "      <td>Express Air</td>\n",
       "      <td>7.40</td>\n",
       "      <td>British Columbia</td>\n",
       "      <td>Consumer</td>\n",
       "      <td>Furniture</td>\n",
       "      <td>Office Furnishings</td>\n",
       "      <td>Small Box</td>\n",
       "      <td>2011-03-03</td>\n",
       "    </tr>\n",
       "    <tr>\n",
       "      <th>1</th>\n",
       "      <td>32323</td>\n",
       "      <td>2010-07-23</td>\n",
       "      <td>High</td>\n",
       "      <td>38</td>\n",
       "      <td>259.7175</td>\n",
       "      <td>Regular Air</td>\n",
       "      <td>5.03</td>\n",
       "      <td>Ontario</td>\n",
       "      <td>Small Business</td>\n",
       "      <td>Technology</td>\n",
       "      <td>Telephones and Communication</td>\n",
       "      <td>Medium Box</td>\n",
       "      <td>2010-07-25</td>\n",
       "    </tr>\n",
       "    <tr>\n",
       "      <th>2</th>\n",
       "      <td>48353</td>\n",
       "      <td>2012-12-15</td>\n",
       "      <td>Not Specified</td>\n",
       "      <td>18</td>\n",
       "      <td>71.2200</td>\n",
       "      <td>Regular Air</td>\n",
       "      <td>0.70</td>\n",
       "      <td>British Columbia</td>\n",
       "      <td>Corporate</td>\n",
       "      <td>Office Supplies</td>\n",
       "      <td>Pens &amp; Art Supplies</td>\n",
       "      <td>Wrap Bag</td>\n",
       "      <td>2012-12-17</td>\n",
       "    </tr>\n",
       "    <tr>\n",
       "      <th>3</th>\n",
       "      <td>10144</td>\n",
       "      <td>2011-01-02</td>\n",
       "      <td>Critical</td>\n",
       "      <td>1</td>\n",
       "      <td>192.4900</td>\n",
       "      <td>Delivery Truck</td>\n",
       "      <td>30.00</td>\n",
       "      <td>British Columbia</td>\n",
       "      <td>Corporate</td>\n",
       "      <td>Furniture</td>\n",
       "      <td>Chairs &amp; Chairmats</td>\n",
       "      <td>Jumbo Drum</td>\n",
       "      <td>2011-01-04</td>\n",
       "    </tr>\n",
       "    <tr>\n",
       "      <th>4</th>\n",
       "      <td>26756</td>\n",
       "      <td>2012-05-10</td>\n",
       "      <td>Medium</td>\n",
       "      <td>25</td>\n",
       "      <td>767.2600</td>\n",
       "      <td>Regular Air</td>\n",
       "      <td>4.00</td>\n",
       "      <td>British Columbia</td>\n",
       "      <td>Home Office</td>\n",
       "      <td>Technology</td>\n",
       "      <td>Computer Peripherals</td>\n",
       "      <td>Small Box</td>\n",
       "      <td>2012-05-10</td>\n",
       "    </tr>\n",
       "    <tr>\n",
       "      <th>5</th>\n",
       "      <td>18144</td>\n",
       "      <td>2011-06-07</td>\n",
       "      <td>Critical</td>\n",
       "      <td>48</td>\n",
       "      <td>207.0800</td>\n",
       "      <td>Regular Air</td>\n",
       "      <td>5.17</td>\n",
       "      <td>Northwest Territories</td>\n",
       "      <td>Corporate</td>\n",
       "      <td>Office Supplies</td>\n",
       "      <td>Paper</td>\n",
       "      <td>Small Box</td>\n",
       "      <td>2011-06-09</td>\n",
       "    </tr>\n",
       "    <tr>\n",
       "      <th>6</th>\n",
       "      <td>10369</td>\n",
       "      <td>2011-11-09</td>\n",
       "      <td>Low</td>\n",
       "      <td>23</td>\n",
       "      <td>683.6800</td>\n",
       "      <td>Regular Air</td>\n",
       "      <td>8.99</td>\n",
       "      <td>British Columbia</td>\n",
       "      <td>Home Office</td>\n",
       "      <td>Technology</td>\n",
       "      <td>Computer Peripherals</td>\n",
       "      <td>Small Pack</td>\n",
       "      <td>2011-11-14</td>\n",
       "    </tr>\n",
       "    <tr>\n",
       "      <th>7</th>\n",
       "      <td>22912</td>\n",
       "      <td>2010-10-16</td>\n",
       "      <td>Low</td>\n",
       "      <td>33</td>\n",
       "      <td>10168.2300</td>\n",
       "      <td>Express Air</td>\n",
       "      <td>19.99</td>\n",
       "      <td>Yukon</td>\n",
       "      <td>Corporate</td>\n",
       "      <td>Office Supplies</td>\n",
       "      <td>Binders and Binder Accessories</td>\n",
       "      <td>Small Box</td>\n",
       "      <td>2010-10-20</td>\n",
       "    </tr>\n",
       "    <tr>\n",
       "      <th>8</th>\n",
       "      <td>51008</td>\n",
       "      <td>2011-08-20</td>\n",
       "      <td>High</td>\n",
       "      <td>20</td>\n",
       "      <td>269.6600</td>\n",
       "      <td>Regular Air</td>\n",
       "      <td>4.59</td>\n",
       "      <td>Quebec</td>\n",
       "      <td>Consumer</td>\n",
       "      <td>Office Supplies</td>\n",
       "      <td>Scissors, Rulers and Trimmers</td>\n",
       "      <td>Wrap Bag</td>\n",
       "      <td>2011-08-22</td>\n",
       "    </tr>\n",
       "    <tr>\n",
       "      <th>9</th>\n",
       "      <td>18279</td>\n",
       "      <td>2009-02-26</td>\n",
       "      <td>Medium</td>\n",
       "      <td>20</td>\n",
       "      <td>10281.7900</td>\n",
       "      <td>Regular Air</td>\n",
       "      <td>24.49</td>\n",
       "      <td>Alberta</td>\n",
       "      <td>Consumer</td>\n",
       "      <td>Technology</td>\n",
       "      <td>Copiers and Fax</td>\n",
       "      <td>Large Box</td>\n",
       "      <td>2009-02-27</td>\n",
       "    </tr>\n",
       "  </tbody>\n",
       "</table>\n",
       "</div>"
      ],
      "text/plain": [
       "   Order ID Order Date Order Priority  Order Quantity       Sales  \\\n",
       "0       928 2011-03-01            Low              26    390.2000   \n",
       "1     32323 2010-07-23           High              38    259.7175   \n",
       "2     48353 2012-12-15  Not Specified              18     71.2200   \n",
       "3     10144 2011-01-02       Critical               1    192.4900   \n",
       "4     26756 2012-05-10         Medium              25    767.2600   \n",
       "5     18144 2011-06-07       Critical              48    207.0800   \n",
       "6     10369 2011-11-09            Low              23    683.6800   \n",
       "7     22912 2010-10-16            Low              33  10168.2300   \n",
       "8     51008 2011-08-20           High              20    269.6600   \n",
       "9     18279 2009-02-26         Medium              20  10281.7900   \n",
       "\n",
       "        Ship Mode  Shipping Cost               Province Customer Segment  \\\n",
       "0     Express Air           7.40       British Columbia         Consumer   \n",
       "1     Regular Air           5.03                Ontario   Small Business   \n",
       "2     Regular Air           0.70       British Columbia        Corporate   \n",
       "3  Delivery Truck          30.00       British Columbia        Corporate   \n",
       "4     Regular Air           4.00       British Columbia      Home Office   \n",
       "5     Regular Air           5.17  Northwest Territories        Corporate   \n",
       "6     Regular Air           8.99       British Columbia      Home Office   \n",
       "7     Express Air          19.99                  Yukon        Corporate   \n",
       "8     Regular Air           4.59                 Quebec         Consumer   \n",
       "9     Regular Air          24.49                Alberta         Consumer   \n",
       "\n",
       "  Product Category            Product Sub-Category Product Container  \\\n",
       "0        Furniture              Office Furnishings         Small Box   \n",
       "1       Technology    Telephones and Communication        Medium Box   \n",
       "2  Office Supplies             Pens & Art Supplies          Wrap Bag   \n",
       "3        Furniture              Chairs & Chairmats        Jumbo Drum   \n",
       "4       Technology            Computer Peripherals         Small Box   \n",
       "5  Office Supplies                           Paper         Small Box   \n",
       "6       Technology            Computer Peripherals        Small Pack   \n",
       "7  Office Supplies  Binders and Binder Accessories         Small Box   \n",
       "8  Office Supplies   Scissors, Rulers and Trimmers          Wrap Bag   \n",
       "9       Technology                 Copiers and Fax         Large Box   \n",
       "\n",
       "   Ship Date  \n",
       "0 2011-03-03  \n",
       "1 2010-07-25  \n",
       "2 2012-12-17  \n",
       "3 2011-01-04  \n",
       "4 2012-05-10  \n",
       "5 2011-06-09  \n",
       "6 2011-11-14  \n",
       "7 2010-10-20  \n",
       "8 2011-08-22  \n",
       "9 2009-02-27  "
      ]
     },
     "execution_count": 86,
     "metadata": {},
     "output_type": "execute_result"
    }
   ],
   "source": [
    "# with open('canada_company_sales_data.xlsx') as f:\n",
    "#     print(f.readlines())\n",
    "import pandas as pd\n",
    "# df = pd.read_csv('sample_submission.csv')\n",
    "# df\n",
    "\n",
    "# Do this first to make it work - pip install xlrd\n",
    "# import xlrd\n",
    "df = pd.read_excel('canada_company_sales_data.xlsx')\n",
    "df.head(10)"
   ]
  },
  {
   "cell_type": "code",
   "execution_count": null,
   "metadata": {},
   "outputs": [],
   "source": []
  }
 ],
 "metadata": {
  "kernelspec": {
   "display_name": "Python 3",
   "language": "python",
   "name": "python3"
  },
  "language_info": {
   "codemirror_mode": {
    "name": "ipython",
    "version": 3
   },
   "file_extension": ".py",
   "mimetype": "text/x-python",
   "name": "python",
   "nbconvert_exporter": "python",
   "pygments_lexer": "ipython3",
   "version": "3.6.5"
  }
 },
 "nbformat": 4,
 "nbformat_minor": 2
}
