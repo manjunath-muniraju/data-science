{
 "cells": [
  {
   "cell_type": "markdown",
   "metadata": {},
   "source": [
    "<font size = '4'>Strings are the Python objects that helps the reader describe about the task. "
   ]
  },
  {
   "cell_type": "code",
   "execution_count": null,
   "metadata": {},
   "outputs": [],
   "source": [
    "# kjhkhgalkga"
   ]
  },
  {
   "cell_type": "code",
   "execution_count": null,
   "metadata": {},
   "outputs": [],
   "source": [
    "print('ghgjgjllghgovhhjjhg\\n\\tghghjghglhgjgfkghfkhgjhghjg\\nTABghkhgk\\ngkjhghjgkhg')\n"
   ]
  },
  {
   "cell_type": "code",
   "execution_count": null,
   "metadata": {},
   "outputs": [],
   "source": []
  },
  {
   "cell_type": "code",
   "execution_count": null,
   "metadata": {},
   "outputs": [],
   "source": [
    "x = 'Hello World' # This is a string\n",
    "y = ' I am, learning, Python' # we have intentionally given the white space in the beginning\n",
    "# Now we want to concatenate these two strings\n",
    "z = x + y\n",
    "print(z)"
   ]
  },
  {
   "cell_type": "code",
   "execution_count": null,
   "metadata": {},
   "outputs": [],
   "source": [
    "len(z)"
   ]
  },
  {
   "cell_type": "code",
   "execution_count": null,
   "metadata": {},
   "outputs": [],
   "source": [
    "y.split(',')"
   ]
  },
  {
   "cell_type": "code",
   "execution_count": null,
   "metadata": {},
   "outputs": [],
   "source": [
    "# Now we can slice the string\n",
    "print(x[2:9])"
   ]
  },
  {
   "cell_type": "code",
   "execution_count": null,
   "metadata": {},
   "outputs": [],
   "source": [
    "x = 'Hello world'\n",
    "print(x.find('llo')) # It will return the index value if it will find the string\n",
    "# x.find('Java')  # It will return -1 if it will not find the string"
   ]
  },
  {
   "cell_type": "code",
   "execution_count": null,
   "metadata": {},
   "outputs": [],
   "source": [
    "x = 'Hello world'\n",
    "x.replace('world', 'Universe')\n",
    "print(x)# This happens because it didn't inplace the values\n",
    "new_string = x.replace('world', 'Universe')\n",
    "print(new_string)"
   ]
  },
  {
   "cell_type": "code",
   "execution_count": null,
   "metadata": {},
   "outputs": [],
   "source": [
    "# we can get the individual words from the string\n",
    "\n",
    "x = 'Python is the best language in the world'\n",
    "# for i in x:\n",
    "#     print(i) # Prints the individual word\n",
    "print(x.split(' ')) # Note that here white space is the separator\n",
    "\n",
    "y = 'red, green, blue'\n",
    "k = y.split(',')\n",
    "print(k)"
   ]
  },
  {
   "cell_type": "code",
   "execution_count": null,
   "metadata": {},
   "outputs": [],
   "source": [
    "#All chars have been stripped from the beginning and the end of the string.\n",
    "\n",
    "str1 = \"   this is string 00000example....wow!!!   \"\n",
    "print(str1.strip())"
   ]
  },
  {
   "cell_type": "markdown",
   "metadata": {},
   "source": [
    "#### We can finally jump to string formatting."
   ]
  },
  {
   "cell_type": "markdown",
   "metadata": {},
   "source": [
    "Assignment 1:\n",
    "\n",
    "<font size = '4'> Create a new string 'Life is beautiful, when I am skilled.' from two string by concatenating 'Life is beautiful' and 'when I am skilled'. "
   ]
  },
  {
   "cell_type": "markdown",
   "metadata": {},
   "source": [
    "Assignment 2:\n",
    "\n",
    "person = {\n",
    "'name': 'Ram',\n",
    "'Email': 'abc@gmail.com'\n",
    "}\n",
    "\n",
    "<font size = '4'> Create a new string 'My name is Ram and my email ID is abc@gmail.com' from the above dictionary. \n",
    "  "
   ]
  },
  {
   "cell_type": "code",
   "execution_count": 37,
   "metadata": {},
   "outputs": [
    {
     "name": "stdout",
     "output_type": "stream",
     "text": [
      "My name is Ram and my email ID is abc@gmail.com\n",
      "My name is Ram and my email ID is abc@gmail.com\n"
     ]
    }
   ],
   "source": [
    "person = {\n",
    "    'Name' : 'Ram',\n",
    "    'Email' : 'abc@gmail.com'\n",
    "}\n",
    "\n",
    "sentence = 'My name is ' + person['Name'] + ' and my email ID is ' + person['Email']  \n",
    "print(sentence)\n",
    "# Let's see how string formatting works\n",
    "\n",
    "new_sentence = 'My name is {} and my email ID is {}'.format(person['Name'],person['Email'])\n",
    "print(new_sentence)"
   ]
  },
  {
   "cell_type": "markdown",
   "metadata": {},
   "source": [
    "## Basic formatting\n",
    "\n",
    "Simple positional formatting is probably the most common use-case. Use it if the order of your arguments is not likely to change and you only have very few elements you want to concatenate.Since the elements are not represented by something as descriptive as a name this simple style should only be used to format a relatively small number of elements.\n",
    "\n",
    "Old\n",
    "    \n",
    "'%s %s' % ('one', 'two')\n",
    "\n",
    "New\n",
    "\n",
    "'{} {}'.format('one', 'two')\n",
    "\n",
    "Output\n",
    "\n",
    "one two\n",
    "\n",
    "Old\n",
    "\n",
    "'%d %d' % (1, 2)\n",
    "\n",
    "New\n",
    "\n",
    "'{} {}'.format(1, 2)\n",
    "\n",
    "Output\n",
    "\n",
    "1 2\n",
    "\n"
   ]
  },
  {
   "cell_type": "code",
   "execution_count": 45,
   "metadata": {},
   "outputs": [
    {
     "name": "stdout",
     "output_type": "stream",
     "text": [
      "one,two\n",
      "two,one\n",
      "I have one bottle of beer but that beer bottle is taste wise number one.\n"
     ]
    }
   ],
   "source": [
    "# Let's see some of the poweful use cases of new string formatting\n",
    "print('{},{}'.format('one','two')) # Here 'one' is the 0 index and 'two' is the 1 index\n",
    "\n",
    "# New string formatting always takes the positional value of the arguments\n",
    "print('{1},{0}'.format('one','two'))\n",
    "\n",
    "# We can use the string positional values multiple times\n",
    "print('I have {0} bottle of {1} but that {1} bottle is taste wise number {0}.'.format('one','beer'))"
   ]
  },
  {
   "cell_type": "code",
   "execution_count": 53,
   "metadata": {},
   "outputs": [
    {
     "name": "stdout",
     "output_type": "stream",
     "text": [
      "My name is Ram and I am 20 years old\n"
     ]
    }
   ],
   "source": [
    "# Lets create a new dictionary and see more tricks about string formatting\n",
    "\n",
    "person ={\n",
    "    'name' : 'Ram',\n",
    "    'age' : 20\n",
    "}\n",
    "\n",
    "print('My name is {0[name]} and I am {0[age]} years old'.format(person))"
   ]
  },
  {
   "cell_type": "code",
   "execution_count": null,
   "metadata": {},
   "outputs": [],
   "source": [
    "x = [1, 'sample']\n",
    "\n",
    "print('Ram is the no %d student in the classroom and we came to know by a %s test' % (x[0], x[1]))\n",
    "\n",
    "# print('Ram is the no {0} student in the classroom and we came to know by a {1} test')"
   ]
  },
  {
   "cell_type": "markdown",
   "metadata": {},
   "source": [
    "Watch this youtube video for more knowledge about string formatting. \n",
    "https://www.youtube.com/watch?v=vTX3IwquFkc"
   ]
  }
 ],
 "metadata": {
  "kernelspec": {
   "display_name": "Python 3",
   "language": "python",
   "name": "python3"
  },
  "language_info": {
   "codemirror_mode": {
    "name": "ipython",
    "version": 3
   },
   "file_extension": ".py",
   "mimetype": "text/x-python",
   "name": "python",
   "nbconvert_exporter": "python",
   "pygments_lexer": "ipython3",
   "version": "3.6.5"
  }
 },
 "nbformat": 4,
 "nbformat_minor": 2
}
