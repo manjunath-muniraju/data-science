{
 "cells": [
  {
   "cell_type": "code",
   "execution_count": 1,
   "metadata": {},
   "outputs": [],
   "source": [
    "x=['we', 'may','be','good','to','go','we','%']"
   ]
  },
  {
   "cell_type": "code",
   "execution_count": 12,
   "metadata": {},
   "outputs": [
    {
     "name": "stdout",
     "output_type": "stream",
     "text": [
      "{'may', 'we', 'to', 'go', 'good', '%', 'be'}\n",
      "('may', 'we', 'to', 'go', 'good', '%', 'be')\n",
      "{0: 'may', 1: 'we', 2: 'to', 3: 'go', 4: 'good', 5: '%', 6: 'be'}\n"
     ]
    }
   ],
   "source": [
    "# putting the list in set will remove duplicates\n",
    "y = set(x)\n",
    "print(y)\n",
    "y = tuple(y)\n",
    "print(y)\n",
    "\n",
    "# print(dict(y)) # this error because dict needs key and value\n",
    "\n",
    "y = dict(enumerate(y))\n",
    "print(y)"
   ]
  },
  {
   "cell_type": "code",
   "execution_count": 14,
   "metadata": {},
   "outputs": [
    {
     "name": "stdout",
     "output_type": "stream",
     "text": [
      "{'may': 0, 'we': 1, 'to': 2, 'go': 3, 'good': 4, '%': 5, 'be': 6}\n",
      "{0: 'may', 1: 'we', 2: 'to', 3: 'go', 4: 'good', 5: '%', 6: 'be'}\n"
     ]
    }
   ],
   "source": [
    "print(y)\n",
    "# to print in reverse order\n",
    "y = {j:i for i,j in y.items() }\n",
    "print(y)"
   ]
  },
  {
   "cell_type": "code",
   "execution_count": null,
   "metadata": {},
   "outputs": [],
   "source": []
  }
 ],
 "metadata": {
  "kernelspec": {
   "display_name": "Python 3",
   "language": "python",
   "name": "python3"
  },
  "language_info": {
   "codemirror_mode": {
    "name": "ipython",
    "version": 3
   },
   "file_extension": ".py",
   "mimetype": "text/x-python",
   "name": "python",
   "nbconvert_exporter": "python",
   "pygments_lexer": "ipython3",
   "version": "3.6.5"
  }
 },
 "nbformat": 4,
 "nbformat_minor": 2
}
