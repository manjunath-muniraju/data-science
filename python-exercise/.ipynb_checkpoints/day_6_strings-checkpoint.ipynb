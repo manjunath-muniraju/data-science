{
 "cells": [
  {
   "cell_type": "code",
   "execution_count": 1,
   "metadata": {},
   "outputs": [
    {
     "name": "stdout",
     "output_type": "stream",
     "text": [
      "My name is Ram and email is abc@gmail.com\n"
     ]
    }
   ],
   "source": [
    "person = {\n",
    "    'Name': 'Ram',\n",
    "    'Email': 'abc@gmail.com'\n",
    "}\n",
    "\n",
    "sentence = 'My name is ' + person['Name'] + ' and email is ' + person['Email']\n",
    "print(sentence)"
   ]
  },
  {
   "cell_type": "code",
   "execution_count": 10,
   "metadata": {},
   "outputs": [
    {
     "name": "stdout",
     "output_type": "stream",
     "text": [
      "My name is Ram and email ID is abc@gmail.com\n",
      "My name is Ram and email ID is abc@gmail.com\n",
      "My name is abc@gmail.com and email ID is Ram\n",
      "My name is Ram and email ID is abc@gmail.com\n",
      "My name is Ram and email ID is abc@gmail.com\n",
      "My name is Ram and email ID is abc@gmail.com\n",
      "My name is Ram and email ID is abc@gmail.com\n"
     ]
    }
   ],
   "source": [
    "# the above example is just str concatination,\n",
    "# but we can do same using str formatting\n",
    "\n",
    "new_sentence = 'My name is {0} and email ID is {1}'.format(person['Name'], person['Email'])\n",
    "print(new_sentence)\n",
    "\n",
    "new_sentence = 'My name is {} and email ID is {}'.format(person['Name'], person['Email'])\n",
    "print(new_sentence)\n",
    "\n",
    "new_sentence = 'My name is {1} and email ID is {0}'.format(person['Name'], person['Email'])\n",
    "print(new_sentence)\n",
    "\n",
    "new_sentence = 'My name is {Name} and email ID is {Email}'.format(**person)\n",
    "print(new_sentence)\n",
    "# this just un packing the dictionary\n",
    "\n",
    "new_sentence = 'My name is {Name} and email ID is {Email}'.format_map(person)\n",
    "print(new_sentence)\n",
    "\n",
    "new_sentence = 'My name is {0[Name]} and email ID is {1[Email]}'.format(person,person)\n",
    "print(new_sentence)\n",
    "# here 0[] and 1[] is indexing - here two person dict is required\n",
    "\n",
    "new_sentence = 'My name is {0[Name]} and email ID is {0[Email]}'.format(person)\n",
    "print(new_sentence)\n",
    "# here only 0[] is indexing on only one person dict\n",
    "\n"
   ]
  },
  {
   "cell_type": "code",
   "execution_count": null,
   "metadata": {},
   "outputs": [],
   "source": []
  },
  {
   "cell_type": "code",
   "execution_count": null,
   "metadata": {},
   "outputs": [],
   "source": []
  },
  {
   "cell_type": "code",
   "execution_count": null,
   "metadata": {},
   "outputs": [],
   "source": []
  },
  {
   "cell_type": "code",
   "execution_count": null,
   "metadata": {},
   "outputs": [],
   "source": []
  }
 ],
 "metadata": {
  "kernelspec": {
   "display_name": "Python 3",
   "language": "python",
   "name": "python3"
  },
  "language_info": {
   "codemirror_mode": {
    "name": "ipython",
    "version": 3
   },
   "file_extension": ".py",
   "mimetype": "text/x-python",
   "name": "python",
   "nbconvert_exporter": "python",
   "pygments_lexer": "ipython3",
   "version": "3.6.5"
  }
 },
 "nbformat": 4,
 "nbformat_minor": 2
}
