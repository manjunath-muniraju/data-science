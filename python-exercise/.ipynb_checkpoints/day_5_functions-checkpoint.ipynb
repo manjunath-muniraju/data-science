{
 "cells": [
  {
   "cell_type": "code",
   "execution_count": 1,
   "metadata": {},
   "outputs": [
    {
     "name": "stdout",
     "output_type": "stream",
     "text": [
      "print my name\n"
     ]
    }
   ],
   "source": [
    "def myfunction():\n",
    "    print('print my name') # body for function\n",
    "myfunction() # to call a function"
   ]
  },
  {
   "cell_type": "code",
   "execution_count": 2,
   "metadata": {},
   "outputs": [
    {
     "name": "stdout",
     "output_type": "stream",
     "text": [
      "print my name\n",
      "None\n"
     ]
    }
   ],
   "source": [
    "print(myfunction())\n",
    "# here since function is not returning anything, inside print() it tell None. that means function is not retuning anything"
   ]
  },
  {
   "cell_type": "code",
   "execution_count": 7,
   "metadata": {},
   "outputs": [
    {
     "data": {
      "text/plain": [
       "function"
      ]
     },
     "execution_count": 7,
     "metadata": {},
     "output_type": "execute_result"
    }
   ],
   "source": [
    "type(myfunction)"
   ]
  },
  {
   "cell_type": "code",
   "execution_count": 8,
   "metadata": {},
   "outputs": [
    {
     "name": "stdout",
     "output_type": "stream",
     "text": [
      "print my name\n"
     ]
    },
    {
     "data": {
      "text/plain": [
       "NoneType"
      ]
     },
     "execution_count": 8,
     "metadata": {},
     "output_type": "execute_result"
    }
   ],
   "source": [
    "type(myfunction())\n",
    "# here function is called first and then it tell the type of return type"
   ]
  },
  {
   "cell_type": "code",
   "execution_count": 9,
   "metadata": {},
   "outputs": [],
   "source": [
    "def print_squares(stop_value):\n",
    "    for i in range(stop_value):\n",
    "        print(i, i**2)"
   ]
  },
  {
   "cell_type": "code",
   "execution_count": 11,
   "metadata": {},
   "outputs": [
    {
     "name": "stdout",
     "output_type": "stream",
     "text": [
      "0 0\n",
      "1 1\n",
      "2 4\n",
      "3 9\n",
      "4 16\n"
     ]
    }
   ],
   "source": [
    "# calling function\n",
    "print_squares(5)"
   ]
  },
  {
   "cell_type": "code",
   "execution_count": 12,
   "metadata": {},
   "outputs": [
    {
     "name": "stdout",
     "output_type": "stream",
     "text": [
      "0 0\n",
      "1 1\n",
      "2 4\n",
      "3 9\n",
      "4 16\n",
      "5 25\n",
      "6 36\n",
      "7 49\n"
     ]
    }
   ],
   "source": [
    "# calling function\n",
    "print_squares(8)"
   ]
  },
  {
   "cell_type": "code",
   "execution_count": 15,
   "metadata": {},
   "outputs": [
    {
     "name": "stdout",
     "output_type": "stream",
     "text": [
      "None\n"
     ]
    }
   ],
   "source": [
    "def my_blank_function():\n",
    "    pass # here minimum requiremnet is 'pass'. without pass it will throw error\n",
    "print(my_blank_function())"
   ]
  },
  {
   "cell_type": "code",
   "execution_count": 16,
   "metadata": {},
   "outputs": [
    {
     "name": "stdout",
     "output_type": "stream",
     "text": [
      "9\n"
     ]
    }
   ],
   "source": [
    "def sum(a,b):\n",
    "    z = a+ b\n",
    "    return z\n",
    "# the above function is called 'defintion site'\n",
    "\n",
    "m = sum(4,5)\n",
    "# the above statement is called 'call site'\n",
    "\n",
    "print(m)"
   ]
  },
  {
   "cell_type": "code",
   "execution_count": 17,
   "metadata": {},
   "outputs": [
    {
     "name": "stdout",
     "output_type": "stream",
     "text": [
      "6\n"
     ]
    }
   ],
   "source": [
    "def sum(a,b=2):\n",
    "    z = a+ b\n",
    "    return z\n",
    "# the above function is called 'defintion site'\n",
    "\n",
    "m = sum(4)\n",
    "# the above statement is called 'call site'\n",
    "\n",
    "print(m)"
   ]
  },
  {
   "cell_type": "code",
   "execution_count": 21,
   "metadata": {},
   "outputs": [
    {
     "name": "stdout",
     "output_type": "stream",
     "text": [
      "24\n"
     ]
    }
   ],
   "source": [
    "def sum(a,b, c =15):\n",
    "    z = a+ b + c\n",
    "    return z\n",
    "# the above function is called 'defintion site'\n",
    "\n",
    "m = sum(4,5)\n",
    "# the above statement is called 'call site'\n",
    "\n",
    "print(m)\n",
    "\n",
    "# here a and b variales are reqired argument\n",
    "# and c is default site\n",
    "# here 4 and 5 is called 'positional arguments'"
   ]
  },
  {
   "cell_type": "code",
   "execution_count": 25,
   "metadata": {},
   "outputs": [
    {
     "name": "stdout",
     "output_type": "stream",
     "text": [
      "15\n",
      "9\n"
     ]
    }
   ],
   "source": [
    "def sum(a=5,b=4):\n",
    "    z = a+ b\n",
    "    return z\n",
    "# the above function is called 'defintion site'\n",
    "\n",
    "m = sum(10,5)\n",
    "# the above statement is called 'call site'\n",
    "n = sum()\n",
    "\n",
    "print(m)\n",
    "print(n)\n",
    "\n",
    "# here 10 and 5 is still called as 'positional arguments' becasue you are not overridding the values\n",
    "\n"
   ]
  },
  {
   "cell_type": "code",
   "execution_count": 27,
   "metadata": {},
   "outputs": [
    {
     "name": "stdout",
     "output_type": "stream",
     "text": [
      "50\n",
      "150\n"
     ]
    }
   ],
   "source": [
    "k = sum(a=20, b=30)\n",
    "print(k)\n",
    "\n",
    "# here a=20 and b=30 as a whole thing is called as 'keyword arguments'\n",
    "\n",
    "h = sum(b = 70, a = 80)\n",
    "print(h)\n",
    "\n",
    "# here variabale name matches and it will assisgn"
   ]
  },
  {
   "cell_type": "code",
   "execution_count": 29,
   "metadata": {},
   "outputs": [
    {
     "name": "stdout",
     "output_type": "stream",
     "text": [
      "{'a': 4, 'b': 5}\n"
     ]
    }
   ],
   "source": [
    "#dict(4,5) # throws error becuase it can't make out which is key or value\n",
    "\n",
    "z = dict(a=4,b=5)\n",
    "print(z)"
   ]
  },
  {
   "cell_type": "code",
   "execution_count": null,
   "metadata": {},
   "outputs": [],
   "source": [
    "# dunder method in python - google and check\n",
    "# do research on \n",
    "# __len__() \n",
    "# __repr__()"
   ]
  },
  {
   "cell_type": "code",
   "execution_count": 32,
   "metadata": {},
   "outputs": [
    {
     "name": "stdout",
     "output_type": "stream",
     "text": [
      "7\n"
     ]
    }
   ],
   "source": [
    "def sum(a, b =2):\n",
    "    return a + b\n",
    "\n",
    "x = sum(a=5)\n",
    "print(x)"
   ]
  },
  {
   "cell_type": "code",
   "execution_count": 36,
   "metadata": {},
   "outputs": [
    {
     "name": "stdout",
     "output_type": "stream",
     "text": [
      "[1, 3, 5, 7, 9]\n"
     ]
    }
   ],
   "source": [
    "def converting_a_list(x):\n",
    "    y = [j for j in x if j%2 == 1]\n",
    "    return y\n",
    "    \n",
    "z = converting_a_list([1,2,3,4,5,6,7,8,9])\n",
    "print(z)"
   ]
  },
  {
   "cell_type": "code",
   "execution_count": 37,
   "metadata": {},
   "outputs": [],
   "source": [
    "# in call site\n"
   ]
  },
  {
   "cell_type": "code",
   "execution_count": 39,
   "metadata": {},
   "outputs": [
    {
     "name": "stdout",
     "output_type": "stream",
     "text": [
      "('data scinec', 'stat', 'print all')\n",
      "{'Name': 'Manju', 'Age': 26, 'Gender': 'Male'}\n"
     ]
    }
   ],
   "source": [
    "# two kinds of arguments\n",
    "# *args and **kwargs\n",
    "# *args is responsible to take positional argumnets\n",
    "# **kwargs is responsible to take keyword argumnets\n",
    "\n",
    "# *args will be tuples and **kwargs will be dict\n",
    "\n",
    "def studnet_info(*args, **kwargs):\n",
    "    print(args)\n",
    "    print(kwargs)\n",
    "\n",
    "studnet_info('data scinec', 'stat', 'print all', Name = 'Manju', Age = 26, Gender = 'Male')"
   ]
  },
  {
   "cell_type": "code",
   "execution_count": 41,
   "metadata": {},
   "outputs": [
    {
     "name": "stdout",
     "output_type": "stream",
     "text": [
      "(['data scinec', 'stat', 'print all'], {'Name': 'Manju', 'Age': 26, 'Gender': 'Male'})\n",
      "{}\n"
     ]
    }
   ],
   "source": [
    "def studnet_info(*args, **kwargs):\n",
    "    print(args)\n",
    "    print(kwargs)\n",
    "\n",
    "course = ['data scinec', 'stat', 'print all']\n",
    "info = {'Name' : 'Manju', 'Age' : 26, 'Gender' : 'Male'}\n",
    "studnet_info(course, info)\n",
    "\n",
    "# here course and info is passed as a postional values as whole. that is why is coming in tuple. and second argument is empty dict\n",
    "\n",
    "studnet_info(course, info)"
   ]
  },
  {
   "cell_type": "code",
   "execution_count": 43,
   "metadata": {},
   "outputs": [
    {
     "name": "stdout",
     "output_type": "stream",
     "text": [
      "('data scinec', 'stat', 'print all')\n",
      "{'Name': 'Manju', 'Age': 26, 'Gender': 'Male'}\n"
     ]
    }
   ],
   "source": [
    "studnet_info(*course, **info)"
   ]
  },
  {
   "cell_type": "code",
   "execution_count": 23,
   "metadata": {},
   "outputs": [
    {
     "name": "stdout",
     "output_type": "stream",
     "text": [
      "in 4\n",
      "else of 100\n",
      "True\n",
      "False\n",
      "Not Leap Year: 2012\n"
     ]
    }
   ],
   "source": [
    "is_leap_year=False\n",
    "def leap_year(y):\n",
    "    if y%4==0:\n",
    "        print('in 4')\n",
    "        if y%100==0:\n",
    "            print('in 100')\n",
    "            if y%400==0:\n",
    "                print('in 400')\n",
    "                is_leap_year=True\n",
    "            else:\n",
    "                is_leap_year=False\n",
    "        else:\n",
    "            print('else of 100')\n",
    "            is_leap_year=True\n",
    "            print(is_leap_year)\n",
    "    else:\n",
    "        print('false')\n",
    "        is_leap_year=False\n",
    "\n",
    "year=2012\n",
    "leap_year(year)\n",
    "print(is_leap_year)\n",
    "if is_leap_year == True:\n",
    "    print('Is Leap Year: ' + str(year))\n",
    "else:\n",
    "    print('Not Leap Year: ' + str(year))"
   ]
  },
  {
   "cell_type": "code",
   "execution_count": 26,
   "metadata": {},
   "outputs": [
    {
     "name": "stdout",
     "output_type": "stream",
     "text": [
      "1900 is not a leap year\n"
     ]
    }
   ],
   "source": [
    "# Python program to check if the input year is a leap year or not\n",
    "\n",
    "year = 1900\n",
    "\n",
    "# To get year (integer input) from the user\n",
    "# year = int(input(\"Enter a year: \"))\n",
    "\n",
    "if (year % 4) == 0:\n",
    "   if (year % 100) == 0:\n",
    "       if (year % 400) == 0:\n",
    "           print(\"{0} is a leap year\".format(year))\n",
    "       else:\n",
    "           print(\"{0} is not a leap year\".format(year))\n",
    "   else:\n",
    "       print(\"{0} is a leap year\".format(year))\n",
    "else:\n",
    "   print(\"{0} is not a leap year\".format(year))"
   ]
  },
  {
   "cell_type": "code",
   "execution_count": null,
   "metadata": {},
   "outputs": [],
   "source": []
  }
 ],
 "metadata": {
  "kernelspec": {
   "display_name": "Python 3",
   "language": "python",
   "name": "python3"
  },
  "language_info": {
   "codemirror_mode": {
    "name": "ipython",
    "version": 3
   },
   "file_extension": ".py",
   "mimetype": "text/x-python",
   "name": "python",
   "nbconvert_exporter": "python",
   "pygments_lexer": "ipython3",
   "version": "3.6.5"
  }
 },
 "nbformat": 4,
 "nbformat_minor": 2
}
