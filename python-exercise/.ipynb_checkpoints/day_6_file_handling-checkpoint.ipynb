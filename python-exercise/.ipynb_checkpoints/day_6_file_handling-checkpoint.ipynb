{
 "cells": [
  {
   "cell_type": "code",
   "execution_count": 1,
   "metadata": {},
   "outputs": [],
   "source": [
    "import os"
   ]
  },
  {
   "cell_type": "code",
   "execution_count": 2,
   "metadata": {},
   "outputs": [
    {
     "data": {
      "text/plain": [
       "'C:\\\\Users\\\\manjunath\\\\Documents\\\\data-science\\\\python-exercise'"
      ]
     },
     "execution_count": 2,
     "metadata": {},
     "output_type": "execute_result"
    }
   ],
   "source": [
    "os.getcwd()\n",
    "# use tab after the ''.'' to get all the function under os"
   ]
  },
  {
   "cell_type": "code",
   "execution_count": 3,
   "metadata": {},
   "outputs": [
    {
     "data": {
      "text/plain": [
       "'C:\\\\Users\\\\manjunath\\\\Documents\\\\data-science\\\\python-exercise'"
      ]
     },
     "execution_count": 3,
     "metadata": {},
     "output_type": "execute_result"
    }
   ],
   "source": [
    "# or we can do this also\n",
    "\n",
    "%pwd"
   ]
  },
  {
   "cell_type": "code",
   "execution_count": 5,
   "metadata": {},
   "outputs": [
    {
     "name": "stdout",
     "output_type": "stream",
     "text": [
      "<_io.TextIOWrapper name='sample.txt' mode='r' encoding='cp1252'>\n",
      "True\n",
      "<_io.TextIOWrapper name='sample.txt' mode='r' encoding='cp1252'>\n"
     ]
    }
   ],
   "source": [
    "# importing a file to python\n",
    "file = open('sample.txt', 'r')\n",
    "# here r is read mode, we 'w' and 'a'\n",
    "print(file)\n",
    "\n",
    "file.close()\n",
    "\n",
    "print(file.closed)\n",
    "print(file)"
   ]
  },
  {
   "cell_type": "code",
   "execution_count": 6,
   "metadata": {},
   "outputs": [
    {
     "name": "stdout",
     "output_type": "stream",
     "text": [
      "sample.txt\n"
     ]
    }
   ],
   "source": [
    "print(file.name)"
   ]
  },
  {
   "cell_type": "code",
   "execution_count": 9,
   "metadata": {},
   "outputs": [
    {
     "name": "stdout",
     "output_type": "stream",
     "text": [
      "Hi Manju\n"
     ]
    }
   ],
   "source": [
    "# to read content of the file\n",
    "\n",
    "file = open('sample.txt', 'r')\n",
    "file_content = file.read()\n",
    "print(file_content)"
   ]
  },
  {
   "cell_type": "code",
   "execution_count": 10,
   "metadata": {},
   "outputs": [
    {
     "name": "stdout",
     "output_type": "stream",
     "text": [
      "0\n",
      "Hi Manju\n",
      "8\n"
     ]
    }
   ],
   "source": [
    "# tell will tell the current position\n",
    "\n",
    "file = open('sample.txt', 'r')\n",
    "print(file.tell())\n",
    "file_content = file.read()\n",
    "print(file_content)\n",
    "print(file.tell())"
   ]
  },
  {
   "cell_type": "code",
   "execution_count": 11,
   "metadata": {},
   "outputs": [
    {
     "name": "stdout",
     "output_type": "stream",
     "text": [
      "0\n",
      "38\n",
      "Hi Manju\n",
      "You are learning python\n",
      "Good!\n"
     ]
    }
   ],
   "source": [
    "# tell will tell the current position\n",
    "\n",
    "file = open('sample.txt', 'r')\n",
    "print(file.tell())\n",
    "file_content = file.read()\n",
    "\n",
    "print(file.tell())\n",
    "print(file_content)"
   ]
  },
  {
   "cell_type": "code",
   "execution_count": 13,
   "metadata": {},
   "outputs": [
    {
     "name": "stdout",
     "output_type": "stream",
     "text": [
      "0\n",
      "Hi Manju\n",
      "You are learning python\n",
      "Good!\n",
      "38\n",
      "\n",
      "Good!\n"
     ]
    }
   ],
   "source": [
    "# seek will move to that position\n",
    "\n",
    "file = open('sample.txt', 'r')\n",
    "print(file.tell())\n",
    "file_content = file.read()\n",
    "file.seek(0) # goes to 0th location\n",
    "print(file_content)\n",
    "file.seek(32)\n",
    "file_content = file.read()\n",
    "print(file.tell())\n",
    "print(file_content)"
   ]
  },
  {
   "cell_type": "code",
   "execution_count": 17,
   "metadata": {},
   "outputs": [
    {
     "name": "stdout",
     "output_type": "stream",
     "text": [
      "['Hi Manju\\n', 'You are learning python \\n', 'Good!']\n",
      "Hi Manju\n",
      "\n",
      "You are learning python \n",
      "\n",
      "Good!\n"
     ]
    }
   ],
   "source": [
    "# read lines\n",
    "file = open('sample.txt', 'r')\n",
    "file_content = file.readlines()\n",
    "print(file_content)\n",
    "\n",
    "print(file_content[0])\n",
    "print(file_content[1])\n",
    "print(file_content[2])"
   ]
  },
  {
   "cell_type": "code",
   "execution_count": 22,
   "metadata": {},
   "outputs": [
    {
     "name": "stdout",
     "output_type": "stream",
     "text": [
      "Hi Manju\n",
      "You are learning python \n"
     ]
    }
   ],
   "source": [
    "# read line\n",
    "file = open('sample.txt', 'r')\n",
    "file_content = file.readline()\n",
    "print(file_content, end = '')\n",
    "file_content = file.readline()\n",
    "print(file_content, end = '')\n",
    "\n",
    "# end = '' is to remove spaces b\\w the lines"
   ]
  },
  {
   "cell_type": "code",
   "execution_count": 23,
   "metadata": {},
   "outputs": [
    {
     "name": "stdout",
     "output_type": "stream",
     "text": [
      "39\n"
     ]
    }
   ],
   "source": [
    "# to check number of char in file\n",
    "file = open('sample.txt', 'r')\n",
    "print(len(file.read()))"
   ]
  },
  {
   "cell_type": "code",
   "execution_count": 28,
   "metadata": {},
   "outputs": [
    {
     "name": "stdout",
     "output_type": "stream",
     "text": [
      "Hi Manju\n",
      "You are learning python \n",
      "Good!\n",
      "\n",
      "without end = ''\n",
      "Hi Manju\n",
      "\n",
      "You are learning python \n",
      "\n",
      "Good!\n"
     ]
    }
   ],
   "source": [
    "# using for\n",
    "\n",
    "file = open('sample.txt', 'r')\n",
    "for line in file:\n",
    "    print(line, end = '')\n",
    "    \n",
    "print('\\n')\n",
    "print('without end = \\'\\'')\n",
    "file = open('sample.txt', 'r')\n",
    "for line in file:\n",
    "    print(line)"
   ]
  },
  {
   "cell_type": "code",
   "execution_count": 33,
   "metadata": {},
   "outputs": [
    {
     "name": "stdout",
     "output_type": "stream",
     "text": [
      "012"
     ]
    }
   ],
   "source": [
    "file = open('sample.txt', 'r')\n",
    "for line in range(len(file.readlines())):\n",
    "    print(line, end = '')"
   ]
  },
  {
   "cell_type": "code",
   "execution_count": 34,
   "metadata": {},
   "outputs": [],
   "source": [
    "file.close()"
   ]
  },
  {
   "cell_type": "code",
   "execution_count": 41,
   "metadata": {},
   "outputs": [
    {
     "name": "stdout",
     "output_type": "stream",
     "text": [
      "Hi Manju\n",
      "You are lea\n"
     ]
    }
   ],
   "source": [
    "file = open('sample.txt','r')\n",
    "file_20 = file.read(20)\n",
    "print(file_20)"
   ]
  },
  {
   "cell_type": "code",
   "execution_count": 44,
   "metadata": {},
   "outputs": [
    {
     "name": "stdout",
     "output_type": "stream",
     "text": [
      "nju\n",
      "You are lea\n"
     ]
    }
   ],
   "source": [
    "file = open('sample.txt','r')\n",
    "file.seek(5) # to read from 5th position\n",
    "file_20 = file.read(15)\n",
    "print(file_20)\n",
    "file.close()"
   ]
  },
  {
   "cell_type": "code",
   "execution_count": 50,
   "metadata": {},
   "outputs": [
    {
     "name": "stdout",
     "output_type": "stream",
     "text": [
      "sample.txt\n",
      "Hi Manju\n",
      "You are lea\n",
      "20\n",
      "file is closed automatically ? True\n"
     ]
    }
   ],
   "source": [
    "# Context Manager - helps to close the file by itself onece done with task\n",
    "\n",
    "with open('sample.txt', 'r') as f:\n",
    "    print(f.name)\n",
    "    f_context = f.read(20)\n",
    "    print(f_context)\n",
    "    print(f.tell())\n",
    "    \n",
    "print('file is closed automatically ? ' + str(f.closed))\n"
   ]
  },
  {
   "cell_type": "code",
   "execution_count": 58,
   "metadata": {},
   "outputs": [],
   "source": [
    "# now different mode in files - w r a r+ w+ rb wb\n",
    "with open('NewFileAutoCreate-1.txt','w') as wf:\n",
    "    wf.write('firstline')\n"
   ]
  },
  {
   "cell_type": "code",
   "execution_count": 67,
   "metadata": {},
   "outputs": [],
   "source": [
    "# now different mode in files - w r a r+ w+ rb wb\n",
    "with open('NewFileAutoCreate-2.txt','w') as wf:\n",
    "    lines_of_text = ['first line\\n', 'second line\\n', 'third line\\n']\n",
    "    wf.writelines(lines_of_text)"
   ]
  },
  {
   "cell_type": "code",
   "execution_count": 68,
   "metadata": {},
   "outputs": [],
   "source": [
    "with open('NewFileAutoCreate-2.txt', 'a') as wf:\n",
    "    wf.write('fourth line')"
   ]
  },
  {
   "cell_type": "code",
   "execution_count": 70,
   "metadata": {},
   "outputs": [],
   "source": [
    "# to copy from one file to another\n",
    "\n",
    "with open('sample.txt', 'r') as rf:\n",
    "    with open('copy-of-sample.txt', 'w') as wf:\n",
    "        for lines in rf:\n",
    "            wf.write(lines)"
   ]
  },
  {
   "cell_type": "code",
   "execution_count": 72,
   "metadata": {},
   "outputs": [],
   "source": [
    "# now how to copy a image file into another image\n",
    "with open('cat.jpg', 'rb') as rb:\n",
    "    with open('cat-copy.jpg', 'wb') as wb:\n",
    "        for bit in rb:\n",
    "            wb.write(bit)"
   ]
  },
  {
   "cell_type": "code",
   "execution_count": null,
   "metadata": {},
   "outputs": [],
   "source": [
    "# reading xls sheet using pandas\n",
    "\n",
    "import pandas as pd\n",
    "df = pd.read_excel('file-name.xlxs')\n",
    "df"
   ]
  }
 ],
 "metadata": {
  "kernelspec": {
   "display_name": "Python 3",
   "language": "python",
   "name": "python3"
  },
  "language_info": {
   "codemirror_mode": {
    "name": "ipython",
    "version": 3
   },
   "file_extension": ".py",
   "mimetype": "text/x-python",
   "name": "python",
   "nbconvert_exporter": "python",
   "pygments_lexer": "ipython3",
   "version": "3.6.5"
  }
 },
 "nbformat": 4,
 "nbformat_minor": 2
}
